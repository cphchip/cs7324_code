{
 "cells": [
  {
   "cell_type": "markdown",
   "id": "4a8830cf",
   "metadata": {},
   "source": [
    "# cs7324 Lab 3 - Extending Logistic Regression"
   ]
  },
  {
   "cell_type": "markdown",
   "id": "3e003f72",
   "metadata": {},
   "source": [
    "#### Chip Henderson - 48996654 "
   ]
  },
  {
   "cell_type": "markdown",
   "id": "856f9980",
   "metadata": {},
   "source": [
    "## 1. Preparation and Overview"
   ]
  },
  {
   "cell_type": "markdown",
   "id": "385092a1",
   "metadata": {},
   "source": [
    "The minimum three-class prediction requirement for this lab meant I needed to find a new dataset than I used in lab 1. I chose the Maternal Health Risk dataset from the UC Irvine dataset repository. The dataset contains the age, blood pressure (Systolic and Diastolic), blood sugar, and body temperature of the patients and there are 1013 instances total.\n",
    "\n",
    "The impact of particular vairables on the maternal health of patients is significant and can help guide appropriate decision making for patients considering pregnancy. Therefore the primary use case of this dataset is to help prevent maternal complications during pregnancy through the understanding of statistically significant risk factors for patients. \n",
    "\n",
    "The classification task of this dataset is to determine based on the given varibales, whether a patient is a high, medium, or low risk for pregnancy complications.\n",
    "\n",
    "\n",
    "\n",
    "Since this dataset is somewhat limited on features, it was not necessary to downselect to particular ones."
   ]
  },
  {
   "cell_type": "markdown",
   "id": "eaf71787",
   "metadata": {},
   "source": [
    "## 2. Modeling"
   ]
  },
  {
   "cell_type": "markdown",
   "id": "6b055312",
   "metadata": {},
   "source": [
    "## 3. Deployment"
   ]
  },
  {
   "cell_type": "markdown",
   "id": "99cdf155",
   "metadata": {},
   "source": [
    "## 3. Optimization for Logistic Regression"
   ]
  }
 ],
 "metadata": {
  "kernelspec": {
   "display_name": "Python 3 (ipykernel)",
   "language": "python",
   "name": "python3"
  },
  "language_info": {
   "codemirror_mode": {
    "name": "ipython",
    "version": 3
   },
   "file_extension": ".py",
   "mimetype": "text/x-python",
   "name": "python",
   "nbconvert_exporter": "python",
   "pygments_lexer": "ipython3",
   "version": "3.9.17"
  }
 },
 "nbformat": 4,
 "nbformat_minor": 5
}
