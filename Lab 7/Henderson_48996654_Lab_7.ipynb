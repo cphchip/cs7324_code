{
 "cells": [
  {
   "cell_type": "markdown",
   "metadata": {},
   "source": [
    "# cs7324 Lab 6 - Sequential Networks"
   ]
  },
  {
   "cell_type": "markdown",
   "metadata": {},
   "source": [
    "#### Chip Henderson - 48996654 \n"
   ]
  },
  {
   "cell_type": "markdown",
   "metadata": {},
   "source": [
    "## Preparation\n",
    "\n",
    "In this lab, I'll be using a collection of Tweets related to the coronavirus pandemic. My intent is to use Convolutional Neural Network and Transformer models to analyze sentiment.\n",
    "\n",
    "Source: https://www.kaggle.com/datasets/datatattle/covid-19-nlp-text-classification"
   ]
  },
  {
   "cell_type": "markdown",
   "metadata": {},
   "source": [
    "### Data Import and Tokenization\n",
    "\n",
    "My dataset is already split into training and testing categories. Since I will need to split out my y values as well, and I'd like to see some distributions before agreeing with the split somoeone else came up with, I'm going to combine the two."
   ]
  },
  {
   "cell_type": "code",
   "execution_count": 22,
   "metadata": {},
   "outputs": [
    {
     "name": "stdout",
     "output_type": "stream",
     "text": [
      "<class 'pandas.core.frame.DataFrame'>\n",
      "Index: 44955 entries, 0 to 3797\n",
      "Data columns (total 6 columns):\n",
      " #   Column         Non-Null Count  Dtype \n",
      "---  ------         --------------  ----- \n",
      " 0   UserName       44955 non-null  int64 \n",
      " 1   ScreenName     44955 non-null  int64 \n",
      " 2   Location       35531 non-null  object\n",
      " 3   TweetAt        44955 non-null  object\n",
      " 4   OriginalTweet  44955 non-null  object\n",
      " 5   Sentiment      44955 non-null  object\n",
      "dtypes: int64(2), object(4)\n",
      "memory usage: 2.4+ MB\n"
     ]
    }
   ],
   "source": [
    "import numpy as np\n",
    "import pandas as pd\n",
    "from tensorflow.keras.preprocessing import sequence\n",
    "\n",
    "# I'm using a latin enoding because there are some special characters\n",
    "df_train = pd.read_csv(r'C:\\Users\\Chip\\source\\repos\\cs7324_code\\Data_Sources\\Coronavirus_tweets\\Corona_NLP_train.csv',encoding='iso-8859-1')\n",
    "df_test = pd.read_csv(r'C:\\Users\\Chip\\source\\repos\\cs7324_code\\Data_Sources\\Coronavirus_tweets\\Corona_NLP_test.csv',encoding='iso-8859-1')\n",
    "\n",
    "df_covid = pd.concat([df_train, df_test])\n",
    "\n",
    "df_covid.info()"
   ]
  },
  {
   "cell_type": "markdown",
   "metadata": {},
   "source": [
    "#### Tokenization\n",
    "\n",
    "At a glance of the examples above. There are some characters that I'm not sure I want to include in my embeddings. Some are stop words like \"a,\" \"the,\" \"is,\" \"are.\" Others are @tags that I don't believe will help my sentiment predictions. When I tokenize these Tweets I'm going to remove the stop words and will examine some differences in leaving the @tags in or removing them. Idea behind this is that I further reduce dataset complexity by removing these words that don't add value to prediction.\n",
    "\n",
    "The Keras tokenizer doesn't support removal of stop-words. So I'm going to be using NLTK to do the initial tokenization."
   ]
  },
  {
   "cell_type": "code",
   "execution_count": 23,
   "metadata": {},
   "outputs": [
    {
     "name": "stderr",
     "output_type": "stream",
     "text": [
      "[nltk_data] Downloading package punkt to\n",
      "[nltk_data]     C:\\Users\\Chip\\AppData\\Roaming\\nltk_data...\n",
      "[nltk_data]   Package punkt is already up-to-date!\n",
      "[nltk_data] Downloading package stopwords to\n",
      "[nltk_data]     C:\\Users\\Chip\\AppData\\Roaming\\nltk_data...\n",
      "[nltk_data]   Package stopwords is already up-to-date!\n"
     ]
    },
    {
     "name": "stdout",
     "output_type": "stream",
     "text": [
      "      UserName  ScreenName             Location     TweetAt  \\\n",
      "0         3799       48751               London  16-03-2020   \n",
      "1         3800       48752                   UK  16-03-2020   \n",
      "2         3801       48753            Vagabonds  16-03-2020   \n",
      "3         3802       48754                  NaN  16-03-2020   \n",
      "4         3803       48755                  NaN  16-03-2020   \n",
      "...        ...         ...                  ...         ...   \n",
      "3793      3794       48746            Israel ??  16-03-2020   \n",
      "3794      3795       48747       Farmington, NM  16-03-2020   \n",
      "3795      3796       48748        Haverford, PA  16-03-2020   \n",
      "3796      3797       48749                  NaN  16-03-2020   \n",
      "3797      3798       48750  Arlington, Virginia  16-03-2020   \n",
      "\n",
      "                                          OriginalTweet           Sentiment  \n",
      "0     @ MeNyrbie @ Phil_Gahan @ Chrisitv https : //t...             Neutral  \n",
      "1     advice Talk neighbours family exchange phone n...            Positive  \n",
      "2     Coronavirus Australia : Woolworths give elderl...            Positive  \n",
      "3     food stock one empty ... PLEASE , n't panic , ...            Positive  \n",
      "4     , ready go supermarket # COVID19 outbreak . 'm...  Extremely Negative  \n",
      "...                                                 ...                 ...  \n",
      "3793  Meanwhile Supermarket Israel -- People dance s...            Positive  \n",
      "3794  panic buy lot non-perishable items ? ECHO need...            Negative  \n",
      "3795  Asst Prof Economics @ cconces @ NBCPhiladelphi...             Neutral  \n",
      "3796  Gov need somethings instead biar je rakyat ass...  Extremely Negative  \n",
      "3797  @ ForestandPaper members committed safety empl...  Extremely Positive  \n",
      "\n",
      "[44955 rows x 6 columns]\n",
      "CPU times: total: 23.7 s\n",
      "Wall time: 26.9 s\n"
     ]
    }
   ],
   "source": [
    "%%time\n",
    "# Source: Modified from in-class lecture notebook 13a\n",
    "# Source: Previous code written for cs7320 NLP\n",
    "\n",
    "import nltk\n",
    "nltk.download('punkt')\n",
    "nltk.download('stopwords')\n",
    "from nltk import word_tokenize\n",
    "from nltk.corpus import stopwords\n",
    "\n",
    "stop_words = set(stopwords.words(\"english\"))\n",
    "\n",
    "# Function to tokenize and remove stopwords\n",
    "def tokenize_and_remove_stopwords(tweet):\n",
    "    tokens = word_tokenize(tweet)\n",
    "    stop_words = set(stopwords.words(\"english\"))\n",
    "    filtered_tokens = [word for word in tokens if word.lower() not in stop_words]\n",
    "    return ' '.join(filtered_tokens)\n",
    "\n",
    "# Apply tokenization and stop word removal to the 'OriginalTweet' column\n",
    "df_covid['OriginalTweet'] = df_covid['OriginalTweet'].apply(tokenize_and_remove_stopwords)\n",
    "\n",
    "print(df_covid)\n",
    "\n",
    "\n"
   ]
  },
  {
   "cell_type": "markdown",
   "metadata": {},
   "source": [
    "#### Dimensionality Reduction\n",
    "\n",
    "Because of the memory footprint and compute times for some of these networks, I'm going to make my dataset as simple as possible. Also, I'm focused on performing a many-to-one analysis. Therefore, I'll be dropping everything except for the Original Tweet and Sentiment columns. "
   ]
  },
  {
   "cell_type": "code",
   "execution_count": 2,
   "metadata": {},
   "outputs": [
    {
     "data": {
      "text/plain": [
       "<bound method DataFrame.value_counts of                                           OriginalTweet           Sentiment\n",
       "0     @MeNyrbie @Phil_Gahan @Chrisitv https://t.co/i...             Neutral\n",
       "1     advice Talk to your neighbours family to excha...            Positive\n",
       "2     Coronavirus Australia: Woolworths to give elde...            Positive\n",
       "3     My food stock is not the only one which is emp...            Positive\n",
       "4     Me, ready to go at supermarket during the #COV...  Extremely Negative\n",
       "...                                                 ...                 ...\n",
       "3793  Meanwhile In A Supermarket in Israel -- People...            Positive\n",
       "3794  Did you panic buy a lot of non-perishable item...            Negative\n",
       "3795  Asst Prof of Economics @cconces was on @NBCPhi...             Neutral\n",
       "3796  Gov need to do somethings instead of biar je r...  Extremely Negative\n",
       "3797  I and @ForestandPaper members are committed to...  Extremely Positive\n",
       "\n",
       "[44955 rows x 2 columns]>"
      ]
     },
     "execution_count": 2,
     "metadata": {},
     "output_type": "execute_result"
    }
   ],
   "source": [
    "features_to_keep = ['OriginalTweet', 'Sentiment']\n",
    "features_to_drop = [feature for feature in df_covid.columns if feature not in features_to_keep]\n",
    "\n",
    "# Drop features I won't be using for this lab\n",
    "df_covid_reduced = df_covid.drop(features_to_drop,axis=1)\n",
    "\n",
    "# Determine number of instances \n",
    "df_covid_reduced.value_counts"
   ]
  },
  {
   "cell_type": "markdown",
   "metadata": {},
   "source": [
    "From the example above I see there are a few different sentiments as target values. I'll look at these in more detail because I may want to just make this as few classes as possible (positive/negative/Netral) instead of trying to predict the degree to which something is positive or negative. \n",
    "\n",
    "Predicting how positive or how negative a Tweet is would be diving more deeply into sentiment analysis as opposed to focusing on creating the neural networks to train on this data, so I'm considering it beyond the scope of this lab."
   ]
  },
  {
   "cell_type": "code",
   "execution_count": 3,
   "metadata": {},
   "outputs": [
    {
     "name": "stdout",
     "output_type": "stream",
     "text": [
      "['Neutral' 'Positive' 'Extremely Negative' 'Negative' 'Extremely Positive']\n"
     ]
    }
   ],
   "source": [
    "# How many unique target values are there?\n",
    "print(df_covid_reduced.Sentiment.unique())"
   ]
  },
  {
   "cell_type": "code",
   "execution_count": 4,
   "metadata": {},
   "outputs": [
    {
     "name": "stdout",
     "output_type": "stream",
     "text": [
      "['Neutral' 'Positive' 'Negative']\n"
     ]
    }
   ],
   "source": [
    "# Take 'Extremely Positive' and 'Extremely Negative' and make them align with 'Positive' or 'Negative'\n",
    "df_covid_reduced.loc[df_covid_reduced['Sentiment'] == 'Extremely Negative'] = 'Negative'\n",
    "df_covid_reduced.loc[df_covid_reduced['Sentiment'] == 'Extremely Positive'] = 'Positive'\n",
    "\n",
    "print(df_covid_reduced.Sentiment.unique())"
   ]
  },
  {
   "cell_type": "markdown",
   "metadata": {},
   "source": [
    "#### Class Distribution\n",
    "\n",
    "Let's see how the distribution of positive, negative, and neutral appear in the data. The purpose of this is to determine how imbalanced my classes might be. Since the subject matter is Covid-19, I'm going to guess my negatives are going to outweigh things. But we'll see below."
   ]
  },
  {
   "cell_type": "code",
   "execution_count": 5,
   "metadata": {},
   "outputs": [
    {
     "data": {
      "image/png": "[encoded data removed]",
      "text/plain": [
       "<Figure size 640x480 with 1 Axes>"
      ]
     },
     "metadata": {},
     "output_type": "display_data"
    },
    {
     "data": {
      "text/plain": [
       "Sentiment\n",
       "Positive     19592\n",
       "Negative     17031\n",
       "Neutral       8332\n",
       "Name: count, dtype: int64"
      ]
     },
     "execution_count": 5,
     "metadata": {},
     "output_type": "execute_result"
    }
   ],
   "source": [
    "# Source: Chat-GPT for correcting some pie chart artifacts that were overlapping\n",
    "# This was done after selecting the pie chart as my method of presenting the data\n",
    "import matplotlib\n",
    "import matplotlib.pyplot as plt\n",
    "\n",
    "sentiments = df_covid_reduced.groupby(['Sentiment'])\n",
    "pie_data = sentiments.size() # Chat-GPT change\n",
    "\n",
    "# Chat-GPT recommended adding a startangle and using pie_data instead of \n",
    "# using the column name which made the chart too cluttered.\n",
    "plt.pie(pie_data, labels=pie_data.index, autopct='%1.1f%%', labeldistance=1.1, startangle=90)\n",
    "\n",
    "plt.title(\"Quantity of Each Sentiment\")\n",
    "plt.axis('equal')  # Equal aspect ratio ensures that pie is drawn as a circle.\n",
    "\n",
    "plt.show()\n",
    "\n",
    "# Get the exact count of each value to provide further information\n",
    "df_covid_reduced.value_counts(['Sentiment'])"
   ]
  },
  {
   "cell_type": "markdown",
   "metadata": {},
   "source": [
    "These results didn't align with my expectations, but that's why I'm checking them. I'm usng a pie chart here because its a simple straight forward method for communicating class balance visually. This will help guide decisions on data splitting."
   ]
  },
  {
   "cell_type": "markdown",
   "metadata": {},
   "source": [
    "#### Data Split\n",
    "\n",
    "I'm surprised that we have so many positive tweets but they're relatively close to negative quantities. Neutrals are the least represented category. Based on the quantities in each classification, I believe I'm going to want to stratify this data to ensure I have an equal representation in my training and test data. I'll do that below and check the results."
   ]
  },
  {
   "cell_type": "code",
   "execution_count": 6,
   "metadata": {},
   "outputs": [
    {
     "name": "stdout",
     "output_type": "stream",
     "text": [
      "[['Negative' 13625 38.0]\n",
      " ['Neutral' 6665 19.0]\n",
      " ['Positive' 15674 44.0]] \n",
      "\n",
      "[['Negative' 3406 38.0]\n",
      " ['Neutral' 1667 19.0]\n",
      " ['Positive' 3918 44.0]]\n"
     ]
    }
   ],
   "source": [
    "from sklearn.model_selection import train_test_split\n",
    "from pprint import pprint\n",
    "\n",
    "# Get basic X and y datasets\n",
    "X = df_covid_reduced.OriginalTweet.values\n",
    "y = df_covid_reduced.Sentiment.values\n",
    "\n",
    "# Split my data in to training and test 80/20\n",
    "df_train, df_test, y_train, y_test = train_test_split(X, y, train_size = 0.8, test_size=0.2, stratify=y)\n",
    "\n",
    "# Let's double check the distributions to make sure that stratify has done what I wanted\n",
    "# Source:https://stackoverflow.com/questions/10741346/frequency-counts-for-unique-values-in-a-numpy-array\n",
    "\n",
    "# Get the counts of unique values in training data\n",
    "unique_train_classes, counts = np.unique(y_train, return_counts=True)\n",
    "\n",
    "# Calculate the total number of elements in the array\n",
    "total_elements = len(y_train)\n",
    "\n",
    "# Calculate the percentage of total for each count\n",
    "percentages = (counts / total_elements) * 100\n",
    "\n",
    "print(np.asarray((unique_train_classes, counts, percentages.round(0))).T, '\\n')\n",
    "\n",
    "# Same as above for test for comparison\n",
    "unique_test_classes, counts = np.unique(y_test, return_counts=True)\n",
    "total_elements = len(y_test)\n",
    "percentages = (counts / total_elements) * 100\n",
    "\n",
    "print(np.asarray((unique_test_classes, counts, percentages.round(0))).T)\n",
    "\n"
   ]
  },
  {
   "cell_type": "markdown",
   "metadata": {},
   "source": [
    "Everything worked as expected. My training data and test data now mirror eachother from a class representation perspective."
   ]
  },
  {
   "cell_type": "markdown",
   "metadata": {},
   "source": [
    "Let's see how long my longest tweet is. Depending on when this data was collected the max length could vary."
   ]
  },
  {
   "cell_type": "code",
   "execution_count": 7,
   "metadata": {},
   "outputs": [
    {
     "name": "stdout",
     "output_type": "stream",
     "text": [
      "#Oil futures in NY jumped 11% to $22.54/barrel. More below.\n",
      "\n",
      "Noon prices:\n",
      "#SPX500Â2421.4\n",
      "#NAS100Â7288.3\n",
      "#WTIÂ22.41\n",
      "#GOLDÂ1485.89\n",
      "#SILVERÂ12.165\n",
      "\n",
      "Practise trading oil on a free demo: https://t.co/x9ZztKCodE\n",
      "\n",
      "#coronavirus #COVID19 #COVID2019AU #DonaldTrump #CoronaVirusOutbreak https://t.co/rmjLqCuIFB https://t.co/jcb2OAumGx\n",
      "The longest tweet from the training data is 350\n",
      "The longest tweet from the test data is 221\n"
     ]
    }
   ],
   "source": [
    "print(max(df_train, key=len))\n",
    "print(f\"The longest tweet from the training data is {len(max(df_train, key=len))}\")\n",
    "print(f\"The longest tweet from the test data is {len(max(df_test))}\")"
   ]
  },
  {
   "cell_type": "markdown",
   "metadata": {},
   "source": [
    "So, at most I'll have a 350 token tweet before I remove some of the elements I spoke about above."
   ]
  },
  {
   "cell_type": "code",
   "execution_count": null,
   "metadata": {},
   "outputs": [],
   "source": [
    "from tensorflow import keras\n",
    "# from tensorflow.keras.preprocessing.text import Tokenizer\n",
    "from tensorflow.keras.preprocessing.sequence import pad_sequences\n",
    "\n",
    "NUM_TOP_WORDS = None # use entire vocabulary!\n",
    "MAX_TWEET_LEN = 350 # maximum and minimum number of words\n",
    "\n",
    "X = pad_sequences(sequences, maxlen=MAX_ART_LEN)\n",
    "\n",
    "y_ohe = keras.utils.to_categorical(bunch.target)\n",
    "print('Shape of data tensor:', X.shape)\n",
    "print('Shape of label tensor:', y_ohe.shape)\n",
    "print(np.max(X))"
   ]
  }
 ],
 "metadata": {
  "kernelspec": {
   "display_name": "Python 3 (ipykernel)",
   "language": "python",
   "name": "python3"
  },
  "language_info": {
   "codemirror_mode": {
    "name": "ipython",
    "version": 3
   },
   "file_extension": ".py",
   "mimetype": "text/x-python",
   "name": "python",
   "nbconvert_exporter": "python",
   "pygments_lexer": "ipython3",
   "version": "3.9.17"
  }
 },
 "nbformat": 4,
 "nbformat_minor": 5
}
